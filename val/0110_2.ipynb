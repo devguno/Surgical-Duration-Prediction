{
 "cells": [
  {
   "cell_type": "code",
   "execution_count": 1,
   "metadata": {},
   "outputs": [],
   "source": [
    "import pandas as pd\n",
    "import os\n",
    "import numpy as np\n",
    "\n",
    "# 현재 파이썬 코드의 파일 경로\n",
    "current_path = os.getcwd()  # 현재 작업 디렉토리를 가져옵니다.\n",
    "\n",
    "# CSV 파일 경로\n",
    "file_path = os.path.join(current_path, 'filtered_data.csv')  # User uploaded fioytle to this path\n",
    "\n",
    "surgery_data = pd.read_csv(file_path)"
   ]
  },
  {
   "cell_type": "code",
   "execution_count": 2,
   "metadata": {},
   "outputs": [],
   "source": [
    "import pandas as pd\n",
    "from sklearn.ensemble import RandomForestRegressor\n",
    "from sklearn.model_selection import train_test_split\n",
    "from sklearn.metrics import mean_absolute_error\n",
    "from sklearn.base import clone\n",
    "\n",
    "# Preprocessing steps based on the previous discussion\n",
    "df = surgery_data.drop(columns=['note id', 'person id', 'surgeon estimated op time', 'final op name'])\n",
    "binary_cols = ['condition source value', 'surgeon id', 'ward', 'surgery room', 'op code']\n",
    "for col in binary_cols:\n",
    "    df[col] = df[col].astype('category').cat.codes\n",
    "\n",
    "one_hot_cols = ['surgical department', 'op timing', 'month', 'anesthesia type',\n",
    "                'day of the week', 'asa class', 'week of the month', \n",
    "                'division', 'previous surgery', 'emergency status', 'gender source value', \n",
    "                'admission department']\n",
    "df_encoded = pd.get_dummies(df, columns=one_hot_cols)\n",
    "\n",
    "X_all = df_encoded.drop(\"surgery duration\", axis=1)\n",
    "y_all = df_encoded[\"surgery duration\"]\n",
    "X_train_all, X_test_all, y_train_all, y_test_all = train_test_split(X_all, y_all, test_size=0.2, random_state=42)\n",
    "\n",
    "# Initialize the Random Forest Regressor\n",
    "rf_regressor = RandomForestRegressor(random_state=42)\n"
   ]
  },
  {
   "cell_type": "code",
   "execution_count": 3,
   "metadata": {},
   "outputs": [
    {
     "data": {
      "text/plain": [
       "(16.62513925071331, 31.609588222762078, 0.916107368799772)"
      ]
     },
     "execution_count": 3,
     "metadata": {},
     "output_type": "execute_result"
    }
   ],
   "source": [
    "from sklearn.ensemble import RandomForestRegressor\n",
    "from sklearn.metrics import mean_squared_error, r2_score, mean_absolute_error\n",
    "\n",
    "departments = df['surgical department'].unique()\n",
    "\n",
    "# Dictionary to store department-specific Random Forest models\n",
    "rf_department_models = {}\n",
    "\n",
    "# Training Random Forest models for each department\n",
    "for dept in departments:\n",
    "    # Adjusting column name for one-hot encoded data\n",
    "    dept_col_name = 'surgical department_' + dept\n",
    "\n",
    "    # Filtering data for the department\n",
    "    dept_data = df_encoded[df_encoded[dept_col_name] == 1]\n",
    "    X_dept = dept_data.drop('surgery duration', axis=1)\n",
    "    y_dept = dept_data['surgery duration']\n",
    "\n",
    "    # Splitting the data for the department\n",
    "    X_train_dept, X_test_dept, y_train_dept, y_test_dept = train_test_split(X_dept, y_dept, test_size=0.2, random_state=42)\n",
    "\n",
    "    # Training the Random Forest model\n",
    "    rf_model = RandomForestRegressor(random_state=42)\n",
    "    rf_model.fit(X_train_dept, y_train_dept)\n",
    "    rf_department_models[dept] = rf_model\n",
    "\n",
    "# Preparing for ensemble predictions\n",
    "final_rf_predictions = np.zeros(len(X_test_all))\n",
    "test_indices_rf = X_test_all.index\n",
    "\n",
    "# Applying each department-specific Random Forest model to the entire test dataset\n",
    "for dept, rf_model in rf_department_models.items():\n",
    "    # Adjusting column name\n",
    "    dept_col_name = 'surgical department_' + dept\n",
    "\n",
    "    # Indices of test data belonging to the department\n",
    "    dept_indices_rf = X_test_all[X_test_all[dept_col_name] == 1].index\n",
    "\n",
    "    # Calculating predictions for the department\n",
    "    dept_rf_predictions = rf_model.predict(X_test_all.loc[dept_indices_rf])\n",
    "\n",
    "    # Updating the final prediction array\n",
    "    final_rf_predictions[np.isin(test_indices_rf, dept_indices_rf)] = dept_rf_predictions\n",
    "\n",
    "# Evaluating performance of Random Forest ensemble\n",
    "mae_rf = mean_absolute_error(y_test_all, final_rf_predictions)\n",
    "rmse_rf = np.sqrt(mean_squared_error(y_test_all, final_rf_predictions))\n",
    "r2_rf = r2_score(y_test_all, final_rf_predictions)\n",
    "\n",
    "mae_rf, rmse_rf, r2_rf\n"
   ]
  },
  {
   "cell_type": "code",
   "execution_count": 4,
   "metadata": {},
   "outputs": [
    {
     "data": {
      "text/plain": [
       "{'General Surgery': 17.97449758787043,\n",
       " 'Otolaryngology': 21.29770025839793,\n",
       " 'Orthopedics': 17.735042092603727,\n",
       " 'Ophthalmology': 6.711396085204375,\n",
       " 'Obstetrics & Gynecology': 17.513872782345302,\n",
       " 'Urology': 11.764183187946074,\n",
       " 'Plastic Surgery': 20.812400000000004,\n",
       " 'Neurosurgery': 24.830393220338983,\n",
       " 'Cardiovascular Thoracic Surgery': 24.109567053854278,\n",
       " 'Pediatric Otolaryngology': 11.368510078878177,\n",
       " 'Pediatric Orthopedics': 23.24108723135272,\n",
       " 'Pediatric Thoracic Surgery': 25.550911458333335,\n",
       " 'Pediatric Urology': 15.806160558464224,\n",
       " 'Pediatric Surgery': 15.678263971462545,\n",
       " 'Pediatric Ophthalmology': 5.260770202020201,\n",
       " 'Pediatric Plastic Surgery': 16.823589164785552,\n",
       " 'Pediatric Neurosurgery': 31.814077253218887}"
      ]
     },
     "execution_count": 4,
     "metadata": {},
     "output_type": "execute_result"
    }
   ],
   "source": [
    "# Dictionary to store the MAE for each department\n",
    "mae_per_department = {}\n",
    "\n",
    "# Evaluating MAE for each department\n",
    "for dept, rf_model in rf_department_models.items():\n",
    "    # Adjusting column name\n",
    "    dept_col_name = 'surgical department_' + dept\n",
    "\n",
    "    # Indices of test data belonging to the department\n",
    "    dept_indices_rf = X_test_all[X_test_all[dept_col_name] == 1].index\n",
    "\n",
    "    # Calculating predictions for the department\n",
    "    dept_rf_predictions = rf_model.predict(X_test_all.loc[dept_indices_rf])\n",
    "\n",
    "    # Evaluating MAE for the department\n",
    "    dept_mae_rf = mean_absolute_error(y_test_all.loc[dept_indices_rf], dept_rf_predictions)\n",
    "    mae_per_department[dept] = dept_mae_rf\n",
    "\n",
    "mae_per_department\n"
   ]
  }
 ],
 "metadata": {
  "kernelspec": {
   "display_name": "surgical",
   "language": "python",
   "name": "python3"
  },
  "language_info": {
   "codemirror_mode": {
    "name": "ipython",
    "version": 3
   },
   "file_extension": ".py",
   "mimetype": "text/x-python",
   "name": "python",
   "nbconvert_exporter": "python",
   "pygments_lexer": "ipython3",
   "version": "3.12.0"
  }
 },
 "nbformat": 4,
 "nbformat_minor": 2
}
